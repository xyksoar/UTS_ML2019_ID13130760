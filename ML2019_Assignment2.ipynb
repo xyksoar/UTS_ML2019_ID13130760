{
  "nbformat": 4,
  "nbformat_minor": 0,
  "metadata": {
    "colab": {
      "name": "ML2019 Assignment2.ipynb",
      "provenance": [],
      "collapsed_sections": [],
      "include_colab_link": true
    },
    "kernelspec": {
      "name": "python3",
      "display_name": "Python 3"
    }
  },
  "cells": [
    {
      "cell_type": "markdown",
      "metadata": {
        "id": "view-in-github",
        "colab_type": "text"
      },
      "source": [
        "<a href=\"https://colab.research.google.com/github/xyksoar/UTS_ML2019_ID13130760/blob/master/ML2019_Assignment2.ipynb\" target=\"_parent\"><img src=\"https://colab.research.google.com/assets/colab-badge.svg\" alt=\"Open In Colab\"/></a>"
      ]
    },
    {
      "cell_type": "markdown",
      "metadata": {
        "id": "NWFqmusjSh08",
        "colab_type": "text"
      },
      "source": [
        "# 32513 Machine Learning\n",
        "##Assignment 2: Practical Machine Learning Project\n",
        "Yue Xiao 13130760\n",
        "\n",
        "Haoran Li 13122852\n",
        "\n",
        "Dataset: https://github.com/HaoranLi6/UTS_ML2019_ID13122852/blob/master/googleplaystore.csv\n",
        "\n",
        "Python Code:\n",
        "https://github.com/HaoranLi6/UTS_ML2019_ID13122852/blob/master/ML2019_assig2_coding.ipynb\n"
      ]
    },
    {
      "cell_type": "markdown",
      "metadata": {
        "id": "9Ifyfz4QT0fP",
        "colab_type": "text"
      },
      "source": [
        "#Introduction\n",
        "Since the mobile devices are invaded into people's daily life now, the number of app users are increased rapidly, which cause the growth of app developers correspondingly. The dominant Android operating system gains approximately 80% market shares worldwide, and most apps are housed in the Google Play Store, which reflects that the Google Play Store is the biggest and famous app stores. Therefore, how to develop an app that can attract more android users are crucial for all app developers to consider. This paper focuses on predicting the apps' rating data and figure out how the rating data have been influenced by other attributes, which will assist developers to get an insight of app's details and make more wise decisions when developing an app. \n",
        "\n",
        "The data source named Google Play Store Apps that we obtained from Kaggle, which contains about 10k apps data. The data of Each app includes basic information about app price, rating scores, category, etc. There is a total of 13 attributes and 10,841 entries contained in this dataset. To figure out the rating data, first, the dataset features are analyzing by using data visualization tools, such as pie chart and histogram. Then based on the understanding of whole dataset shape, the KNN and Random Forest algorithms are applied to do the modeling, and the results are compared in the evaluation section.\n",
        "\n",
        "\n",
        "\n"
      ]
    },
    {
      "cell_type": "markdown",
      "metadata": {
        "id": "1a-dONE_UDM2",
        "colab_type": "text"
      },
      "source": [
        "#1.Exploration \n",
        "\n",
        "##1.1Data Description\n",
        "This dataset contains information of applications in google app store. The attributes of the application include App (name of application), category, rating, reviews, size, installs, type, price, content rating, genres, last updated, current version and android version. The dataset contains information of 10,841 applications in google store.\n",
        "\n",
        "\n"
      ]
    },
    {
      "cell_type": "markdown",
      "metadata": {
        "id": "_Rhew_wiVVB2",
        "colab_type": "text"
      },
      "source": [
        "Attribute | Description\n",
        "--- | ---\n",
        "APP |The name of google store applications.\n",
        "Category |Different categories of applications.\n",
        "Rating|The overall rates of users for the app.\n",
        "Reviews|The number of reviews by users.\n",
        "Size|The size of the application.\n",
        "Installs|The amount of installments by users.\n",
        "Type|Whether the application is free or not.\n",
        "Price|The price of the application.\n",
        "Content Rating|Age group the app is targeted at - Children / Mature 21+ / Adult\n",
        "Genres |An app can belong to multiple genres (apart from its main category). \n",
        "Last Updated|Date when the app was last updated on Play Store (as when scraped)\n",
        "Current Ver|Current version of the app available(as when scraped)\n",
        "Android Ver|Current android version of the app(as when scraped).\n",
        "\n"
      ]
    },
    {
      "cell_type": "markdown",
      "metadata": {
        "id": "scXWZOktWKEN",
        "colab_type": "text"
      },
      "source": [
        "##1.2Data Features \n",
        "Before analyze the number of apps in the store per category, the total number of category have been defined and a category named ‘1.9’ was deleted to make the result more accurately. Form the figure 1, it can be seen the top 5 category is family apps, game, tools, business and medical apps. \n",
        "![alt text](https://drive.google.com/uc?id=1a2VaVqDLl1cpivJfZ9RDvAHv2Bdp0Ltu) \n",
        "<center>(figure 1)</center>\n",
        "\n",
        "Looking at the rating attribute, there are 1463 null values included in rating. The null values are replaced by the mean value of their respective category rather than replaced them with the mean of rating, due to the null values rate are quite high and the result will be distorted. Then, it can be seen that the average rating of the apps in store is approximate around 4 to 4.5, which is high.\n",
        "![alt text](https://drive.google.com/uc?id=1AfAHedMtLcsV5wQ4dHU6rByihnYPsvJ_)\n",
        "<center>(figure 2)</center>\n",
        "  \n",
        "From the figure 3, it can be seen that the apps are divided into two types, free and paid. There are 8,902 apps are free and only 756 apps need to be paid. the boxplot demonstrates the rating mean of each type of the apps. The paid apps have the higher rating than free apps.\n",
        "![alt text](https://drive.google.com/uc?id=1vfuw7JeUDNAik8DZ6S2ISVQFXcMfNOUH)\n",
        "  \n",
        "The figure below shows the correlations among these 13 attributes, which produced based on the random data matrix. To ensure the accuracy of the correlation results, the input data has been cleaned that replaced the null values and some abnormal values to decrease the negative influences of outliers.  \n",
        "![alt text](https://drive.google.com/uc?id=1zLu7IUoBdbsvm_ZkxjnNrcS86bKI_ODC)\n",
        "\n",
        "The figure 5 demonstrates the correlation that produced based on the correlation coefficient of each attributes. The blue square blocks present the positive relations between the attributes and the negative correlations are shown by the light yellow blocks. Based on the analysis of correlation, it can be found that how the rating data related with others.\n",
        "\n",
        "![alt text](https://drive.google.com/uc?id=1JKEPkUg8jly0cBK0CX7_iDBIAa1u0N9P)\n"
      ]
    },
    {
      "cell_type": "markdown",
      "metadata": {
        "id": "-c7lzXCIeoIb",
        "colab_type": "text"
      },
      "source": [
        "# 2.Methodology \n",
        "## 2.1 Data Processing\n",
        "This research choses two algorithms, K-nearest neighbor and Random Forest to predict the rating of applications. In the dataset, there are 13 attribute. Missing data of each attribute should be examine and cleaned before we apply the algorithm to the dataset.\n",
        "The figure 6 shows the code of python to check whether there is missing value or NaN within the dataset. It is obvious that the column rating, type, content rating, current version and android version have missing value. Figure 7 is the codes of python to find out the number of missing values in each attribute. We can see that rating has the most missing value which equals to 1474.\n",
        "\n",
        "![alt text](https://drive.google.com/uc?id=1-NrZV9SN_gHSXELDdei8NlNDTwA0aoXz)\n",
        "\n",
        "![alt text](https://drive.google.com/uc?id=1_tioaD1yzRMG3GMoznpzjmgVNGGIgL99)\n",
        "\n",
        "\n",
        "To deal with missing value, the method we use in this case is to replace the missing value by the mean value of each attribute. Besides, some non-numeric attributes which have missing should be cleaned before the replacement, and then remove the missing value. Figure 8 shows the codes of the data cleaning step, while figure 9 is the code of removing NaN values. \n",
        "\n",
        "![alt text](https://drive.google.com/uc?id=1cmueHIcurLMoNeZPDVK9OlwHqMPAd7VN)\n",
        "\n",
        "After basic data cleaning, we need to transfer the non-numeric attributes into numeric ones. The reason is that some algorithms do not support those kinds of values. The figure below shows the codes of encoding attributes.\n",
        "\n",
        "![alt text](https://drive.google.com/uc?id=1ygVjRAVSEnIcpL3dmfh6AgDZUd9itYpX)\n",
        "\n",
        "Current dataset needs to be splitted into testing set and training set, and then use the two algorithms to do the prediction. The python codes in figure 12 present how to divide the dataset into two. And we split the dataset into 75% training set and 25% testing set.\n",
        "\n",
        "![alt text](https://drive.google.com/uc?id=1eIKNQF6JprpyhsrBlJScZiOV51j-lYae)"
      ]
    },
    {
      "cell_type": "markdown",
      "metadata": {
        "id": "zKrLhRfRhgon",
        "colab_type": "text"
      },
      "source": [
        "## 2.2 KNN\n",
        "\n",
        "K-nearest neighbor is one of the most widely used clustering algorithm. This method could compute the distance between each value, take the first train value as the nearest point and then predict the class by the frequent class label. The first line of figure 13 refers to choose the 15 closest neighbors, and then use the x_trian and y_trian to calculate the mean accuracy. The accuracy equals to 92.22% in this case which means that the prediction is quite reliable based on the testing set.\n",
        "![alt text](https://drive.google.com/uc?id=1ymNLhd-dC06FG6wHoglMjq5U3QgQvcqL)\n",
        "\n",
        "Moreover, various estimators are calculated in the next step. Figure 14 contains codes of testing different estimators and diagram of the relationship between number of neighbors and score. The diagram shows that when the number of neighbor increases, the score will increase as well.\n",
        "![alt text](https://drive.google.com/uc?id=10I6KrKMAwK84f6iKmCzlCFbCa6LbvgC2)\n",
        "\n"
      ]
    },
    {
      "cell_type": "markdown",
      "metadata": {
        "id": "AsXk9lZnjRjd",
        "colab_type": "text"
      },
      "source": [
        "## 2.3 Random Forest \n",
        "Random forest is one kind of algorithm that could collect classification and find out the most voted prediction. This method could produce highly accurate classifiers, handle large of input variables, and produce an unbiased estimate of the error after generalization. The number of trees is defined by the code in figure 15. The range number of estimator is between 10 to 200. And figure 16 is a diagram which shows the relationship between number of estimator and score. With the incremental of no. of estimator, the score various by the estimators. The relationship is not linear. \n",
        "\n",
        "![alt text](https://drive.google.com/uc?id=1y8ia7ChK0xGalxujKhMdjEQ0HIBSHH5B)\n",
        "\n",
        "The accuracy of the prediction using random forest could be calculated in three ways, mean value, mean squared and root mean squared. Figure 17 display the python code of applying each method and their accuracy. We can see that mean squared random forest has the highest accuracy at 84%, while root mean squared method has the lowest one at 60%.\n",
        "\n",
        "![alt text](https://drive.google.com/uc?id=1vPkvxw6gNFcCYNDaL-MuEPXaH7rDiK0f)\n"
      ]
    },
    {
      "cell_type": "markdown",
      "metadata": {
        "id": "ah-IQ67okJ1o",
        "colab_type": "text"
      },
      "source": [
        "# 3.Evaluation \n",
        "This report tries to use different algorithms to predict the rates of applications in google store. Random forest and K-Nearest Neighbour are the two algorithms that we choose to analysis the data and predict the rating of applications. The result shows that the random forest has a higher accuracy rate. K-Nearest Neighbour is not suitable for large dataset because this kind of algorithm only computes the \"nearest\" neighbor samples. If the number of samples in a class is large, or the samples are not close to the target sample, or such samples are very close to the target sample, then the sample will be an new input and large-capacity class among the K neighbors of the sample will also be the majority. Try different methods that could help us get better predicting results. Besides, this research could be better improved in the future. For example, the attributes correlation could be better examined. This paper use heatmap to visualize the correlation of each attribute. But the result of heatmap could be influenced by the dimensions that we chose. The correlation rates will be various from the dimension. Therefore, how to better perform the research of correlation between each attributes considered later.\n"
      ]
    },
    {
      "cell_type": "markdown",
      "metadata": {
        "id": "MGYehDmDkOlO",
        "colab_type": "text"
      },
      "source": [
        "# 4.Ethical\n",
        "This paper aims to predict the rating data of apps in store and assists app developers to decide the future development of app category and details. While, during the processes of addressing the rating data-related problems, it can be found that almost 95% apps’ target users are teenagers and above, and the install data shows that family, game, tools, and communication apps are the most popular categories. Teenagers, family (parent-child interaction) and game are the keywords of the rating contributions, so the ethical issues will raise to all the app developers that do not produce poison game apps for their selfish ‘happiness’ and also consider how to bring positive effects to be young.\n",
        "\n",
        "Utilitarian approach refers to measure whether the behaviors could promote happiness. An act that is conducive to the promotion of happiness is correct; if it leads to something contrary to happiness, it is wrong. In this case, most applications target teenagers. But some news and reports indicate that teenagers are easy to addict to games and applications on the mobile phone. The actions of those companies that aim to attract more teenager users will lead to the declining of grade and addiction to online applications. Therefore, the application targeting teenagers not in line with promoting happiness.\n",
        "\n",
        "Different from the utilitarian approach, the Kantian duty-based approach focuses on principles and responsibilities that require each person’s behaviors have to follow the rules. Therefore, based on this approach, each developer has to keep an appropriate moral behavior principle framework in mind when they are developing apps. For developers, the purpose of developing an app should not relate to their intentions and desires. Thus, the normal game apps should not make teenagers and even children addicted with, and the communication apps should not be the place for the illegal erotic trading, and also some tool apps cannot be a method to track others. So, based on the duty-based approach, developers need to follow world principles and do not see people as the purpose of developing apps. \n"
      ]
    },
    {
      "cell_type": "markdown",
      "metadata": {
        "id": "l31NC9zzkbdZ",
        "colab_type": "text"
      },
      "source": [
        "# Conclusion\n",
        "This report aims to find out how to get higher application rating by examining the dataset of google store applications. The dataset contains 10,841 data and is applied to two algorithms which are K-Nearest Neighbor and Random Forest to predict the rating. The research use python to do the data cleaning, delete the missing value and process the data. The result shows that K-Nearest Neighbor performs better than Random Forest in predicting the rating because the accuracy of K-nearest Neighbors is 92% which is higher the accuracy of Random Forest. Moreover, this report contains the discussion of ethical aspects of the usage of the application.\n"
      ]
    },
    {
      "cell_type": "markdown",
      "metadata": {
        "id": "Gx_a1x32kffm",
        "colab_type": "text"
      },
      "source": [
        "# Appendix\n",
        "1.\tFind out applications whose review are greater than 30milion.\n",
        "![alt text](https://drive.google.com/uc?id=1qtzN-MAwX7t3VsWk6zDxwXrk6O_V4d0H)\n",
        "\n",
        "2. Histogram of Install group by category.\n",
        "\n",
        "![alt text](https://drive.google.com/uc?id=1TtV1Ac_55dl6yFJSXQERBoluDDs9lbSR)\n",
        "\n",
        "3. Apps group by content rating\n",
        "\n",
        "![alt text](https://drive.google.com/uc?id=1tPCm7OjFwALP6Qjb6CUIvur66Y2l9cDh)\n",
        "\n",
        "4. Number of apps in different content rating.\n",
        "\n",
        "![alt text](https://drive.google.com/uc?id=1ZyZNPR1URxJjA5jbF2il8AFK-TE7lH6s)\n"
      ]
    }
  ]
}