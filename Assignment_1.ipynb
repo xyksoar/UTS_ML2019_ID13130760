{
  "nbformat": 4,
  "nbformat_minor": 0,
  "metadata": {
    "colab": {
      "name": "Assignment 1.ipynb",
      "version": "0.3.2",
      "provenance": [],
      "include_colab_link": true
    },
    "kernelspec": {
      "name": "python3",
      "display_name": "Python 3"
    }
  },
  "cells": [
    {
      "cell_type": "markdown",
      "metadata": {
        "id": "view-in-github",
        "colab_type": "text"
      },
      "source": [
        "<a href=\"https://colab.research.google.com/github/xyksoar/UTS_ML2019_ID13130760/blob/master/Assignment_1.ipynb\" target=\"_parent\"><img src=\"https://colab.research.google.com/assets/colab-badge.svg\" alt=\"Open In Colab\"/></a>"
      ]
    },
    {
      "cell_type": "code",
      "metadata": {
        "id": "rHIzyt0qYymY",
        "colab_type": "code",
        "colab": {}
      },
      "source": [
        ""
      ],
      "execution_count": 0,
      "outputs": []
    },
    {
      "cell_type": "markdown",
      "metadata": {
        "id": "TP6QWCUzcL-o",
        "colab_type": "text"
      },
      "source": [
        "#Eigenfaces vs. Fisherfaces:Recognition Using Class Specific Linear Projection\n",
        "student name: Yue XIAO\n",
        "\n",
        "studnet ID: 13130760\n",
        "\n",
        "https://github.com/xyksoar/UTS_ML2019_ID13130760/blob/master/Assignment_1.ipynb\n",
        "\n",
        "#Introduction \n",
        "Facial recognition technique becomes more crucial now and there are various algorithms proposed. In this article, the two main methods of facial recognition have been introduced to verify a new algorithm which are Eigenfaces based on the principal component analysis and Fisherfaces based on Fishers’ Linear discriminant. The facial recognition algorithm is tested by using the Eigenfaces and Fisherfaces under varying illumination and different facial expressions. Additionally, the influence of eyewear is also analyzed during the experiment processes. The experiment results demonstrate that the Fisherface method has better performances under these variables. Besides, the problems and recommendations are provided to improve the future experiments.\n",
        "\n",
        "#Content \n",
        "This paper aims to develop the face recognition algorithms to reduce the error rates when faces’ images been recognized. The experiment results are collected by using four different methods, which are correlation, liners subspaces, Eigenfaces, and Fisherfaces. Through the experiments that were taken under several different lighting, face expressions, eyewear condition, it seems that recognize faces images by using the Fisherfaces method the error rates will be the lowest one among other methods.\n",
        "\n",
        "There are four sections included in this paper that demonstrated how the algorithm they proposed has been verified. In the first section, a new method has been developed by authors that are not sensitive about the various lighting conditions and facial expressions. Also, there are two observations have been used to assist facial recognition. The first observation expressed that all the images are taken from the same point but under different lighting condition. Thus, it can be seen the facial images in figure 1 and figure 4 are quite different though it is the same person. The second observation claimed that there is less reliable of facial recognition due to unstable shadowing, specularities and facial expression. The linear projection from high dimensional images to low dimensional subspaces will be found based on the observations. Furthermore, the fundamental information of Fisherfaces and Eigenfaces are introduced. The principal component analysis (PCA) is used by the Eigenfaces method to remonstrate the face images in the low dimensional subspaces. The fisher’s linear discriminant (FLD) is used by the Fisherfaces method to analyze facial recognition (Belhumeur, Hespanha &Kriegman 1997).\n",
        "\n",
        "The second part discussed the four different methods that authors used to analysis the face recognition when the lighting and facial expression changes. First is the correlation that the images in the training set will be selected when it best correlated with the test images. Second is the Eigenfaces Method which is using the PCA to recognize the facial images by reducing dimensions. The third method is linear subspaces, which use the observation result of Lambertian surfaces to analyze facial recognition. The last method is Fisherfaces, which use the FLD, a class-specific method, to obtain better recognition rates (Belhumeur, Hespanha &Kriegman 1997). \n",
        "\n",
        "The third section is about the experiment results that the four methods proposed above will be analyzed by using the databases from Yale and Harvard, to figure out the facial recognition1 rates under various lighting conditions and different facial expressions. First is the variation in lighting, there is a total of 330 images used and been assigned to five different subsets to do better observation and compare. The result shows that the Fisherfaces have lower error rates than Eigenfaces and shorter computed time also. Second is the conditions that the facial expressions, eyewear, and lighting are changing. This experiment included 16 subjects and each of them has them facial images taken under variant conditions. The error rates of the Fisherfaces method decreased rapidly and performed better though all the algorithms and methods have good results. The last is about glasses recognition, which included 36 sources. The PCA and Fisherfaces methods are compared (Belhumeur, Hespanha &Kriegman 1997). \n",
        "\n",
        "The last section is the conclusion, through the experiments of these four methods, it can be seen that Fisherfaces method has the better performance, and the performance of Eigenfaces method can be improved when the three principal components been removed. However, there is problem remains when the Fisherfaces method has been applied in larger databased will the results still the same and whether the variant lighting condition suitable for the individual in the one lighting condition. Also, authors do not verify the situation if the pose changed (Belhumeur, Hespanha &Kriegman 1997).\n",
        "\n",
        "#Innovation \n",
        "According to this paper, a new facial recognition algorithm that is not sensitive about varying illumination and facial expressions have been proposed by authors. Based on the observations that the images are taken from the same point but under different lighting conditions, each pixel of the facial images will be seen as coordination in the high dimensional spaces and in the subspaces of the high dimensional spaces the images will be projected and be analyzed. \n",
        " \n",
        "There are four projection methods are proposed and compared by the authors, which to develop and verify the new algorithm. The methods are verified by using the same database and under variation lighting and facial expressions. The same labeled learning set and unlabeled testing set are applied in the experiment process of each method. The first method is a correlation, which is the basic algorithm that calculates the distance of image vectors to present the similarity of the facial images. \n",
        "\n",
        "However, the correlation method needs large storage to process and is costly, the Eigenfaces method is introduced. Based on the PCA algorithm, the Eigenfaces method is simpler and more efficient. The eigenvector of face images can be obtained by eigenvalue decomposing of the facial images’ covariance matrix in the learning set. Each facial image can be seen as the linear combination of the eigenvector. As same as the correlation method, there are drawbacks in Eigenfaces. The results will be unreliable when the projection in subspaces are influenced by the varying lightings. Different from the correlation and Eigenfaces methods, the linear subspaces method used the observation of Lambertian surface. However, this method is also expensive, due to a large number of images required and large calculation. The last method is Fisherfaces that is better than correlation and Eigenfaces and its base on the fisher linear analysis (Belhumeur, Hespanha &Kriegman 1997). \n",
        "\n",
        "This paper not only compared the projection methods, but the illumination, facial expressions, and eyewear compared also. Through the experiments, the results demonstrate that the Fisherfaces method has better performances than correlation and Eigenfaces. Consequently, this paper has the innovation in some degree due to the new facial recognition algorithm is proposed and verified by comparing methods and experiments.\n",
        "\n",
        "#Technical quality \n",
        "Due to the paper published in the year 1997, I think it has good technical quality under that environment and technology. However, from my perspective now, technical quality can be improved. Through analyzing this paper, it can be found that there are several problems remained. \n",
        " \n",
        "First, the database issue. Although there are four methods have been used to verify the facial recognition algorithm performance when under varying lighting conditions and different facial expression, the database used for the method testing is not large enough. Therefore, the current experiment result that the Fisherfaces method is better than correlation and Eigenfaces may not be reliable if the lager database used. Second, the observation issue. The methods authors used are based on the two observations that taken images from the same position while the shadowing, specularities and facial expressions are not held during the photo-taking processes, thus, the images projected to linear subspaces may deviate. \n",
        " \n",
        "However, I do not think the problems or aspects that can be improved in this paper mean the poor quality of the paper, there are some aspects analyzed well. During the experiment processes, the training dataset and testing set all have good performance in the Fisherface and Eigenface methods. Under varying lighting conditions, the total of 330 images of five people included and five main different illuminations are applied to training the data. The result that the Fisherface method has lower error rates than others can obtain due to the successful testing. Also, the factors of glasses and facial expressions are tested during the experiment. In this paper, the experiment processes that the sample size and class, lighting angle and algorithms are recorded exhaustively. Thus, I think the experiments can be replicated by someone and another reason is the methods of correlation, Eigenfaces, and fisherfaces are the common methods for facial recognition.\n",
        "\n",
        "#Application and X-factor \n",
        "The technique this paper used is mainly focused on Fisherfaces and Eigenfaces, which are the most crucial methods in the facial recognition area. Ling, Yin, and Bhandarkar(2003) proposed a new facial algorithm Sirface, which is as same as the algorithm proposed in this paper is not sensitive with varying illumination and facial expressions. The Experiment results of Sirface method are compared with the Fisherface, the well-know algorithm for facial recognition. It can be seen that the results of Fisherface method become a standard to compare within this facial recognition domain.\n",
        "\n",
        "For the application domain, this paper focuses on facial recognition. Through experiments, the stable and correct facial recognition rate can be obtained and the facial recognition technology can be applied in many areas, such as the finance industry and security industry. Coffin and Ingram (1999) state that facial recognition can be used to identify unauthorized access to improve the security level. The security system will take a photo of people and scan the photo to compare it with the database to recognize the people. The lower error rate of facial recognition, the higher rate of people identifying. \n",
        "\n",
        "However, I think it is hard for developing facial recognition in the future. To decrease the current error rate, the larger database and stricter factors need to be applied. As we all know the iPhone X can be unlocked by scanning face but sometimes it can not be successfully unlocked due to the makeup, hairstyle, and eyewear. Also, I think facial recognition is a good topic to be discussed in class due to it can be applied in many industries, which can improve our life quality, such as facial payment. And there is an interesting thing that the facial recognition system may not be reliable if the users are twins. So I think it worth to be discussed to think about how to deal with such a problem.\n",
        "\n",
        "#Presentation \n",
        "I think the quality of this paper is quite good due to the clear structure. The sections are going forward step by step which assists me to understand. This paper aims to proof the new algorithm that insensitive about lighting conditions and facial expressions by using a specific linear projection of Eigenface and Fisherface. First, the topic and preparation works are introduced. For example, which database will be used, the sample size and class and the methods. Then, the methods of correlation, Eigenface, linear subspaces, and Fisherfaces are analyzed in the following section and the drawbacks of each method are analyzed as well. Then, the results of the experiment are compared in the following section and have a conclusion at last. I think this paper is worth to be read though the formulas and algorithms are difficult for me to get fully understand.\n",
        "\n",
        "#References \n",
        "Coffin, J.S. and Ingram, D., INFRARED INDENTIFICATION Inc, 1999. Facial \n",
        "recognition system for security access and identification. U.S. Patent 5,991,429.\n",
        "\n",
        "Belhumeur, P.N., Hespanha, J.P. and Kriegman, D.J., 1997, ‘Eigenfaces vs. fisherfaces: Recognition using class specific linear projection’, IEEE Transactions on Pattern Analysis & Machine Intelligence, IEEE, pp.711-720.\n",
        "\n",
        "Ling, Y., Yin, X. and Bhandarkar, S.M., 2003, ‘Sirface vs. Fisherface: recognition using class specific linear projection’, In Proceedings 2003 International Conference on Image Processing, IEEE, Vol. 3, pp. III-885.\n",
        "\n",
        "\n"
      ]
    }
  ]
}