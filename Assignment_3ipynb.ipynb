{
  "nbformat": 4,
  "nbformat_minor": 0,
  "metadata": {
    "colab": {
      "name": "Assignment 3ipynb",
      "provenance": [],
      "collapsed_sections": [],
      "include_colab_link": true
    },
    "kernelspec": {
      "name": "python3",
      "display_name": "Python 3"
    }
  },
  "cells": [
    {
      "cell_type": "markdown",
      "metadata": {
        "id": "view-in-github",
        "colab_type": "text"
      },
      "source": [
        "<a href=\"https://colab.research.google.com/github/xyksoar/UTS_ML2019_ID13130760/blob/master/Assignment_3ipynb.ipynb\" target=\"_parent\"><img src=\"https://colab.research.google.com/assets/colab-badge.svg\" alt=\"Open In Colab\"/></a>"
      ]
    },
    {
      "cell_type": "markdown",
      "metadata": {
        "id": "AonFaLlULegr",
        "colab_type": "text"
      },
      "source": [
        "#32513 Machine Learning\n",
        "###Assignment 3: Pitch and Plan for Solving a Domain Problem\n",
        "###Student Name: Yue Xiao\n",
        "###Student ID: 13130760\n",
        "\n",
        "\n",
        "---\n",
        "\n",
        "\n"
      ]
    },
    {
      "cell_type": "markdown",
      "metadata": {
        "id": "2Pb2Ea2aMdnE",
        "colab_type": "text"
      },
      "source": [
        "\n",
        "##Project title\n",
        "The promotion of Australian Vintage Ltd by predicting wine quality\n",
        "\n",
        "---\n"
      ]
    },
    {
      "cell_type": "markdown",
      "metadata": {
        "id": "D5Pd1YF2Mfyo",
        "colab_type": "text"
      },
      "source": [
        "\n",
        "##Aims\n",
        "<p style='text-align: justify;'>The purpose of this report is to enhance the overall profit of the Australian Vintage Ltd by provide high quality wines through predict wine quality in which the quality of whole line wines can be improved and gain more market shares as well through the comparison analysis of global wine markets. </p>\n",
        "\n",
        "###Objectives:\n",
        "To achieve the goals of Australian Vintage Ltd, there are 3 objectives should be attained.\n",
        "1.\tOverall analysis of the worldwide wine markets and determine the competitive advantages of Australian Vintage Ltd.\n",
        "2.\tSelect the appropriate classifier to predict the wine quality of Australian Vintage Ltd and analyze the potential market shares can be gained by providing the high quality wines.\n",
        "3.Validate and deploy the wine quality prediction program.\n",
        "\n",
        "\n",
        "---\n",
        "\n"
      ]
    },
    {
      "cell_type": "markdown",
      "metadata": {
        "id": "BBhfd0C4MEUo",
        "colab_type": "text"
      },
      "source": [
        "##Background\n",
        "<div style=\"text-align: justify\"> The Australian Vintage Ltd (AVL) is one of a leading wine company listed in ASX (Australian stock exchange limited), which form in 1992 and got wine related rewards from 2009. It has integrated operation line of the wine business and has three key brands of wines, McGuigan, tempus two and Nepenthe. This organization includes production of boutique and bulk, vineyards trading, wine packing and trading and marketing. As the largest vineyards owner in Australia, AVL regards that producing the high quality and innovation wines to worldwide as itself promise, which confirms its business vision that provide the great quality wine to everyone in the world is the most crucial thing for this company. The AVL is gradually developing to the forefront of the Australian wine industry that grab about 7% capacity of total Australian wine market of supplying grapes and vineyards. In addition, one of the director of AVL is the founder of the largest wine imported and online selling platform, YesMyWine as well, which provide huge opportunity for AVL to access the Asia market (Australian Vintage Ltd 2019). \n",
        "\n",
        "\n",
        "While since the depression of economics in year 2008, there is the largest-ever slump in Australian wine exportation markets because the overproduction of wines among wine industries and the exchange rate is not optimistic. Obviously, the Australian Vintage Ltd suffers the negative influences of adverse market conditions as well. The Comparison analysis among AVL annual report of year 2017, 2018, and 2019, it can be seen that since 2017 the total revue is slightly increased and higher than the year before, but the revenue is improved from negative and the value of per share is still under the Australian wine industry level. The short-term liquidity, return on asset and equity and earning of per shares of AVL are not achieved the expectation. (All the data and information used are from Australian Vintage Ltd annual reports that provided in reference list.) However, through the annul reports among recent years, it can be found that the main methods applied to predict business trend and improve the overall profit are based business operation aspects. Fro example, analyzing the various ratio from previous financial reports and annul reports to make an enhancement plan for next period or change the short term objectives. The method to make a promotion in AVL from wine products self are not proposed. For this reason, the wine quality prediction program is proposed and by implementing and applying this program, the wine quality AVL can have an overall enhancement which assist the improvement of total net profits as well.</div> \n",
        "\n",
        "\n",
        "---\n",
        "\n"
      ]
    },
    {
      "cell_type": "markdown",
      "metadata": {
        "id": "-2C-k6BhMQ2S",
        "colab_type": "text"
      },
      "source": [
        "##Project Significance\n",
        "<div style=\"text-align: justify\">Although the total revenue of Australian Vintage Ltd has increased slightly, it growth slowly and still lower than wine industry level. The measures taken by AVL are all form the direction of the business operation rather than the product itself. While the product itself, its high quality is the most crucial aspect that the AVL wants to achieve and even seen great quality wine production as their company vision. Thus, the methods to improve the quality of the products and improve the overall quality of three key brands are essential for AVL. \n",
        "  \n",
        "\n",
        "Additionally, the significance of this report not only the product itself should be considered, but the investor, business itself and potential markets also. For investors, the main purpose of their investment is to earn profits and benefit form shares they owned. However, from recent annul report it can be seen that the earnings of per share is decreased to negative 0.8% in 2016, which is down by 4.8% when compared with year 2015. It is not doubt that the earning of per share is increased since year 2016, but the growth in recent three years (2017,2018 and 2019) is sluggish, slightly and not attain the highest earnings per share as before. For this reason, it is necessary to apply this new project to bring more value and profits to investor. Definitely, the Australian Vintage Ltd has capabilities to implement this project and potential to occupy global markets. From the semi annual report of year 2019, it can be seen that the total revenue of AVL is increased $19.7 million form year 2018 and the sales of three key brands, McGuigan, Tempus Two and Nepenthe up about 10%.\n",
        "\n",
        "\n",
        "The Australian Vintage Ltd has ability and motivation to apply this project that predict the wine quality to increase the whole brands quality and awareness to enhance the net revenue and becomes the leading wine company in Australia. Beside, based on AVL itself business capability, the global wine market has potential for AVL to develop with. The global wine reviews data, which obtained form Kaggle, which includes over 130k review of wines form worldwide and includes the 14 attributes, such as country, wine points, price and winery. Based on the analysis of the wine dataset, as figure 1 shows that the US, France and Italy are the top three countries of producing wines and gaining the high points. The Australian wine is followed by Italy and has huge gap to becomes to top3. In Figure 2 it can be seen that reviews Australian wines received are listed on eight, which is one-sixth of reviews US wine received. The data show that in the global markets, it is necessary for Australian wine to improve its awareness and sales and correspondingly, this is a opportunity for AVL to gain the potential global market if their wines are recognized by public.\n",
        "\n",
        "![alt text](https://drive.google.com/uc?id=1G6JhvS2ONJHNLkzlIVysE02sQxcC1dPb)\n",
        "\n",
        "![alt text](https://drive.google.com/uc?id=1QUSgup3QtdL9CP5VbWxxU26nnuvJCXQO)\n",
        "\n",
        "\n",
        "---\n",
        "\n"
      ]
    },
    {
      "cell_type": "markdown",
      "metadata": {
        "id": "_UE3HD2mOA2H",
        "colab_type": "text"
      },
      "source": [
        "##Innovation \n",
        "<div style=\"text-align: justify\"> As the report mentioned before, the proposed project focuses on increasing and controlling the wine product itself quality through the wine quality prediction. Not like the common approach that analyze the annul report or financial report to make the business related plan or change marketing strategy only, this proposed quality prediction method is to enhance the wine itself. Combined high quality wines and business wisely current plans, there is foreseeable improvement in the total revenue. Beside, the Australian Vintage Ltd has the largest vineyards and wineries in the Australia that occupied over 2700 hectares’ vine. Also the AVL will purchase raw material, grapes, from other famous and most iconic wine regions that located at different latitudes and have different climates, which support the development of wine quality prediction. To implement the prediction program, the data related to grape acidity, citric acid, residual sugar, chlorides, etc. should be included. Therefore, based on the operation status and industry line of AVL, there are sufficient conditions to apply the wine quality prediction program. The ACL has been selected is not only this company using the normal method to analyze the business annul status and make plans, but it has capability to implement the wine quality prediction project. \n",
        "\n",
        "Furthermore, to enhance the overall wine quality of AVL is the first but the most crucial step to achieve in which the wine quality can be controlled, and the next innovation step is to utilize the mature and existing resources, the online wine selling platform ‘Yesmywine’. On this platform, the Australian wines are quite popular that the best selling one sold over 170k in one period (Yesmywine 2019). Therefore, predict wine quality to maintain and increase the overall AVL wine quality and utilize the brand awareness and online platform to gain more global market shares are important. Obtain market shares from single side that only consider the marketing or advertising is not effective and efficient, combined this method with high quality wine itself has more potential competitive advantages. \n",
        "\n",
        "\n",
        "---\n",
        "\n"
      ]
    },
    {
      "cell_type": "markdown",
      "metadata": {
        "id": "_6r3Rqf6OWzI",
        "colab_type": "text"
      },
      "source": [
        "##Quality Prediction Project\n",
        "<div style=\"text-align: justify\">\n",
        "To successful implement the quality prediction project is should be supported by both IT team and business operation teams. All the steps in this project are related and the project will forward step by step, which requires the high corporation between IT team and business operation team.</div> \n",
        "\n",
        "###Data collection and exploration  \n",
        "<div style=\"text-align: justify\">\n",
        " Before building the model, the data collation is important to prepare and start the project. The most important data needed is wines’ data, which should be occupied by professional analyze experts. As AVL is the largest vineyards owner and also purchase grapes from other reliable vineyards in different location in Australia. The experts need to collect the data about wines’ fixed /volatile acidity, citric acid, residual sugar, chlorides, free/ total sulfur dioxide, and other five wine quality related data. These wines data are the essential part of the wine quality prediction because wine quality are depending on these indicators and a little change on each attributes will make the quality of wines different. \n",
        "\n",
        "Furthermore, the AVL business operation team needs to collect data related to wine sales status in global and the sales in the online platforms especially. Because the purpose of wine quality prediction is to increase the AVL whole brand wine quality to gain more awareness and make more profit. Thus, the sales information of wine markets is extremely crucial. Additionally, the IT team is responsible to manage the data collected, and also need to build AVL wine database. The data exploration requires IT team to analyze the data that based on the next step’s requirement. Besides, before building the model, IT team requires to manage the data collated and construct the training data set and testing dataset. Usually, the dataset will be split by using functions in python, there are 80% data will be seen as training set and others are the testing set. </div>\n",
        "\n",
        "###Building Model\n",
        "<div style=\"text-align: justify\"> \n",
        "The model building is the core step in the whole project that handled by IT team and it is the extremely important step in the whole project because whether the project succeeded depends on the model results. The model can be build and test by using several tools, such as KNIME, Python, R, and the different classifiers can be build through these techniques. \n",
        "\n",
        "The firsts step in model building is to preprocessing data. The database that IT team build are highly susceptible by the noise, missing value and inconsistent data in which the database contains massive data that collated from multiple heterogeneous data sources. Thus, to preprocessing wine data is necessary. To achieve the three elements of data (accuracy, completeness, consistency), the data cleaning should be do at first. The wines’ data, such as acidity, chlorides and other attributes are all numerical data type, which should be checked with missing value, noise or outliers. Then, these date should be integrated into a data warehouse and the size of the data set needs to be reduced by deleting the redundancy data and slamming. Last, transform the data that able to be mined. \n",
        "\n",
        "Before start the next step, the wine related data has been preprocessed, the training set and testing set are ready to be processed. In the model establish step, except the normal libraries like numpy, pandas need to be imported, the classifier like SVM, Random Forest, and decision Tree should be import as well under the Python environment. These libraries also can be applied in R. After this, the classifiers can be applied. It is necessary to train data by using multiple classifiers because the performances of each algorithm are different. Only to compare the results of each method, the prediction result with highest accuracy can be obtained.</div> \n",
        "\n",
        "###Evaluation \n",
        "After the model build up, the evaluation of this project is necessary, which will take IT team about couple months to complete it. In this step, IT team needs to test the prediction algorithms and analyze the results of the project. During this step, any changes can be made to meet the AVL requirements more and the bugs or mistakes of the prediction project can be corrected. However, the evaluation is not evaluated the wine quality prediction only, but the whole project also. For this reason, the AVL marketing team needs to evaluate the final effect of the project by promoting appropriately. It will take marketing team some times to decide the promotion methods and further plans to increase the total sales of the AVL.\n",
        "\n",
        "\n",
        "---\n",
        "\n"
      ]
    },
    {
      "cell_type": "markdown",
      "metadata": {
        "id": "n8yqMG0lOjKQ",
        "colab_type": "text"
      },
      "source": [
        "Gantt chart\n",
        "This project should be completed within one year that covers five main stages.\n",
        "\n",
        "Stage | Duration (Month)\n",
        "--- | ---\n",
        "Data collection and exploration (wine data & market data) |2\n",
        "Building Model(data preprocessing & model building)| 4\n",
        "Evaluation(Model accuracy & market evolution)| 2\n",
        "Validate and deployment plan|1\n",
        "Market feedback analysis|1\n",
        "\n",
        "\n",
        "The final project only can be completed with the corporation of IT team and AVL marketing team. Based on the plan, the project will take 10 months and the other 2 months are for the AVL to handle the uncontrollable things. \n",
        "The Gantt chart shows detail time allocation as follow:\n",
        "\n",
        "![alt text](https://drive.google.com/uc?id=1Cxakx_1jpC-xeFboHMOsHnRLMi8YUXXz)\n",
        "\n",
        "\n",
        "\n",
        "---\n",
        "\n"
      ]
    },
    {
      "cell_type": "markdown",
      "metadata": {
        "id": "htMYq2-mPnTr",
        "colab_type": "text"
      },
      "source": [
        "##Expect outcome \n",
        "This project aims to increase the overall benefits of the Australia Vintage Ltd ‘s stakeholders by predicting the wine quality to control and improve the quality of wine. Definitely, the investor can get benefits from this project. Now the sales of AVL three key brands have increase 10% and after implement the project, the growth expect to get 5% up one year later. Besides, the current share price of AVL is 0.5 per share and expect to increase to 0.65 per share which is higher than the historical highest process$0.6. the project is not proposed for the short term goal, the more benefits can be gained in the long term and investors can also benefit more in the future. Because, the vision and objective of Australian Vintage Ltd is to provide the grate quality wine to everyone, based on this concept, the quality prediction project can create more values due to the business supports.\n",
        "\n",
        "\n",
        "---\n",
        "\n"
      ]
    },
    {
      "cell_type": "markdown",
      "metadata": {
        "id": "3dWg5WVcRVW3",
        "colab_type": "text"
      },
      "source": [
        "##Budget\n",
        "The total budget is $1,650,000, which includes the infrastructure, implementation cost and the staff cost as well. The hardware that used to extract the data of wine, such as residual sugar and acidity. The network is the basic and necessary infrastructure for the AVL, as well as the software used to do the analyze. Also, the database should be build up to start the project. Besides, the salaries are important. Normally, the salary for project manger is counted as per day, so it the total salary is quite high for the whole project.\n",
        "\n",
        "![alt text](https://drive.google.com/uc?id=1HuwhbKoAXn2xJ41-rDJf5vArOdtUvFE_)\n",
        "\n",
        "\n",
        "---\n",
        "\n"
      ]
    },
    {
      "cell_type": "markdown",
      "metadata": {
        "id": "5sOcY-LnRijX",
        "colab_type": "text"
      },
      "source": [
        "##Personnel \n",
        "<div style=\"text-align: justify\"> The project can not be completed by single person or IT team only. It needs the cooperation among each department in the AVL company. \n",
        "\n",
        "<u>Project Manager</u>: Control the whole process of this project and participate in the project form start to end. Project manager is responsible to handle the whole project and oversee each stage during the project implementation. If there is something goes wrong or the plan changes, the project manager needs to figure out the problem, organize meeting to make feasible plans. Also, project manager needs to support he communication between IT team and marketing team to make everyone in project can understand and catch the project process.\n",
        "\n",
        "<u>IT Team</u>: the core part of this project should be accomplished by IT team. IT team needs to analyze data, predict data and build model.\n",
        "\n",
        "<u>Marketing Team</u>: For this department, they need to make plans that address the marketing methods to increase the total revenue by providing the high quality wine, which should be done based on IT team completed their wine quality prediction program. </div>\n",
        "\n",
        "\n",
        "---\n",
        "\n"
      ]
    },
    {
      "cell_type": "markdown",
      "metadata": {
        "id": "-5K98luYR33e",
        "colab_type": "text"
      },
      "source": [
        "##References \n",
        "Australian Vintage Ltd 2019, History, viewed 6 October 2019, <\n",
        "https://www.australianvintage.com.au/our-company/history/ >.\n",
        "\n",
        "Australian Vintage Ltd 2018, 2018 Annual Report, viewed 6 October 2019, <  https://www.australianvintage.com.au/wp-content/uploads/2018/10/AVL-2018-Annual-Report-website.pdf >.\n",
        "\n",
        "Australian Vintage Ltd 2019, Full Year 30 June 2019 Results, viewed 6 October 2019, < https://www.australianvintage.com.au/wp-content/uploads/2019/08/190828-AVL-Full-Year-Results-Release-FY19.pdf >.\n",
        "\n",
        "\n",
        "Yesmywine 2019, Yesmywine, viewed viewed 6 October 2019, < https://www.yesmywine.com/ >.\n",
        "\n",
        "\n",
        "---\n",
        "\n"
      ]
    },
    {
      "cell_type": "markdown",
      "metadata": {
        "id": "lW1FQa8YSKzh",
        "colab_type": "text"
      },
      "source": [
        "##Video pitch \n"
      ]
    },
    {
      "cell_type": "markdown",
      "metadata": {
        "id": "bqImAkPuSQxx",
        "colab_type": "text"
      },
      "source": [
        "https://www.youtube.com/watch?v=DwAz1n--bDE"
      ]
    }
  ]
}