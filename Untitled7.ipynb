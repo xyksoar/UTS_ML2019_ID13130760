{
  "nbformat": 4,
  "nbformat_minor": 0,
  "metadata": {
    "colab": {
      "name": "Untitled7.ipynb",
      "provenance": [],
      "include_colab_link": true
    },
    "kernelspec": {
      "name": "python3",
      "display_name": "Python 3"
    }
  },
  "cells": [
    {
      "cell_type": "markdown",
      "metadata": {
        "id": "view-in-github",
        "colab_type": "text"
      },
      "source": [
        "<a href=\"https://colab.research.google.com/github/xyksoar/UTS_ML2019_ID13130760/blob/master/Untitled7.ipynb\" target=\"_parent\"><img src=\"https://colab.research.google.com/assets/colab-badge.svg\" alt=\"Open In Colab\"/></a>"
      ]
    },
    {
      "cell_type": "markdown",
      "metadata": {
        "id": "NWFqmusjSh08",
        "colab_type": "text"
      },
      "source": [
        "# 32513 Machine Learning\n",
        "##Assignment 2: Practical Machine Learning Project\n",
        "Yue Xiao 13130760\n",
        "\n",
        "Haoran Li 13122852\n",
        "\n",
        "Dataset: https://github.com/HaoranLi6/UTS_ML2019_ID13122852/blob/master/googleplaystore.csv\n",
        "\n",
        "Python Code:\n",
        "https://github.com/HaoranLi6/UTS_ML2019_ID13122852/blob/master/ML2019_assig2_coding.ipynb\n"
      ]
    },
    {
      "cell_type": "markdown",
      "metadata": {
        "id": "9Ifyfz4QT0fP",
        "colab_type": "text"
      },
      "source": [
        "#Introduction\n",
        "Since the mobile devices are invaded into people's daily life now, the number of app users are increased rapidly, which cause the growth of app developers correspondingly. The dominant Android operating system gains approximately 80% market shares worldwide, and most apps are housed in the Google Play Store, which reflects that the Google Play Store is the biggest and famous app stores. Therefore, how to develop an app that can attract more android users are crucial for all app developers to consider. This paper focuses on predicting the apps' rating data and figure out how the rating data have been influenced by other attributes, which will assist developers to get an insight of app's details and make more wise decisions when developing an app. \n",
        "\n",
        "The data source named Google Play Store Apps that we obtained from Kaggle, which contains about 10k apps data. The data of Each app includes basic information about app price, rating scores, category, etc. There is a total of 13 attributes and 10,841 entries contained in this dataset. To figure out the rating data, first, the dataset features are analyzing by using data visualization tools, such as pie chart and histogram. Then based on the understanding of whole dataset shape, the KNN and Random Forest algorithms are applied to do the modeling, and the results are compared in the evaluation section.\n",
        "\n",
        "\n",
        "\n"
      ]
    },
    {
      "cell_type": "markdown",
      "metadata": {
        "id": "1a-dONE_UDM2",
        "colab_type": "text"
      },
      "source": [
        "#1.Exploration \n",
        "##1.1 Data Description\n",
        "This dataset contains information of applications in google app store. The attributes of the application include App (name of application), category, rating, reviews, size, installs, type, price, content rating, genres, last updated, current version and android version. The dataset contains information of 10,841 applications in google store.\n",
        "\n",
        "\n"
      ]
    },
    {
      "cell_type": "markdown",
      "metadata": {
        "id": "_Rhew_wiVVB2",
        "colab_type": "text"
      },
      "source": [
        "Attribute | Description\n",
        "--- | ---\n",
        "APP |The name of google store applications.\n",
        "Category |Different categories of applications.\n",
        "Rating|The overall rates of users for the app.\n",
        "Reviews|The number of reviews by users.\n",
        "Size|The size of the application.\n",
        "Installs|The amount of installments by users.\n",
        "Type|Whether the application is free or not.\n",
        "Price|The price of the application.\n",
        "Content Rating|Age group the app is targeted at - Children / Mature 21+ / Adult\n",
        "Genres |An app can belong to multiple genres (apart from its main category). \n",
        "Last Updated|Date when the app was last updated on Play Store (as when scraped)\n",
        "Current Ver|Current version of the app available(as when scraped)\n",
        "Android Ver|Current android version of the app(as when scraped).\n",
        "\n"
      ]
    },
    {
      "cell_type": "markdown",
      "metadata": {
        "id": "scXWZOktWKEN",
        "colab_type": "text"
      },
      "source": [
        "##1.2 Data Features \n",
        "Before analyze the number of apps in the store per category, the total number of category have been defined and a category named ‘1.9’ was deleted to make the result more accurately. Form the figure 1, it can be seen the top 5 category is family apps, game, tools, business and medical apps. \n",
        "![alt text](https://drive.google.com/uc?id=1a2VaVqDLl1cpivJfZ9RDvAHv2Bdp0Ltu) \n",
        "<center>(figure 1)</center>\n",
        "\n",
        "Looking at the rating attribute, there are 1463 null values included in rating. The null values are replaced by the mean value of their respective category rather than replaced them with the mean of rating, due to the null values rate are quite high and the result will be distorted. Then, it can be seen that the average rating of the apps in store is approximate around 4 to 4.5, which is high.\n",
        "![alt text](https://drive.google.com/uc?id=1AfAHedMtLcsV5wQ4dHU6rByihnYPsvJ_)\n",
        "<center>(figure 2)</center>\n",
        "  \n",
        "From the figure 3, it can be seen that the apps are divided into two types, free and paid. There are 8,902 apps are free and only 756 apps need to be paid. the boxplot demonstrates the rating mean of each type of the apps. The paid apps have the higher rating than free apps.\n",
        "![alt text](https://drive.google.com/uc?id=1vfuw7JeUDNAik8DZ6S2ISVQFXcMfNOUH)\n",
        "  \n",
        "The figure below shows the correlations among these 13 attributes, which produced based on the random data matrix. To ensure the accuracy of the correlation results, the input data has been cleaned that replaced the null values and some abnormal values to decrease the negative influences of outliers.  \n",
        "![alt text](https://drive.google.com/uc?id=1zLu7IUoBdbsvm_ZkxjnNrcS86bKI_ODC)\n",
        "\n",
        "The figure 5 demonstrates the correlation that produced based on the correlation coefficient of each attributes. The blue square blocks present the positive relations between the attributes and the negative correlations are shown by the light yellow blocks. Based on the analysis of correlation, it can be found that how the rating data related with others.\n",
        "\n",
        "![alt text](https://drive.google.com/uc?id=1JKEPkUg8jly0cBK0CX7_iDBIAa1u0N9P)\n"
      ]
    },
    {
      "cell_type": "markdown",
      "metadata": {
        "id": "-c7lzXCIeoIb",
        "colab_type": "text"
      },
      "source": [
        "#2.Methodology \n",
        "##2.1 Data Processing\n",
        "This research choses two algorithms, K-nearest neighbor and Random Forest to predict the rating of applications. In the dataset, there are 13 attribute. Missing data of each attribute should be examine and cleaned before we apply the algorithm to the dataset.\n",
        "The figure 6 shows the code of python to check whether there is missing value or NaN within the dataset. It is obvious that the column rating, type, content rating, current version and android version have missing value. Figure 7 is the codes of python to find out the number of missing values in each attribute. We can see that rating has the most missing value which equals to 1474.\n",
        "![alt text](https://drive.google.com/uc?id=1-NrZV9SN_gHSXELDdei8NlNDTwA0aoXz)\n",
        "\n",
        "![alt text](https://drive.google.com/uc?id=1_tioaD1yzRMG3GMoznpzjmgVNGGIgL99)\n",
        "\n",
        "\n",
        "To deal with missing value, the method we use in this case is to replace the missing value by the mean value of each attribute. Besides, some non-numeric attributes which have missing should be cleaned before the replacement, and then remove the missing value. Figure 8 shows the codes of the data cleaning step, while figure 9 is the code of removing NaN values. \n",
        "![alt text](https://drive.google.com/uc?id=1cmueHIcurLMoNeZPDVK9OlwHqMPAd7VN)"
      ]
    }
  ]
}